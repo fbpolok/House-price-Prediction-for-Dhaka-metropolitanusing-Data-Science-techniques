{
 "cells": [
  {
   "cell_type": "code",
   "execution_count": 2,
   "id": "8c6524cd",
   "metadata": {},
   "outputs": [],
   "source": [
    "import pandas as pd\n",
    "import numpy as np"
   ]
  },
  {
   "cell_type": "code",
   "execution_count": 3,
   "id": "90329bf2",
   "metadata": {},
   "outputs": [],
   "source": [
    "df = pd.read_csv(r\"C:\\Users\\fbpol\\hp3.csv\",encoding='latin1')"
   ]
  },
  {
   "cell_type": "code",
   "execution_count": 4,
   "id": "29ae1aef",
   "metadata": {},
   "outputs": [
    {
     "data": {
      "text/html": [
       "<div>\n",
       "<style scoped>\n",
       "    .dataframe tbody tr th:only-of-type {\n",
       "        vertical-align: middle;\n",
       "    }\n",
       "\n",
       "    .dataframe tbody tr th {\n",
       "        vertical-align: top;\n",
       "    }\n",
       "\n",
       "    .dataframe thead th {\n",
       "        text-align: right;\n",
       "    }\n",
       "</style>\n",
       "<table border=\"1\" class=\"dataframe\">\n",
       "  <thead>\n",
       "    <tr style=\"text-align: right;\">\n",
       "      <th></th>\n",
       "      <th>Property Type</th>\n",
       "      <th>Bed</th>\n",
       "      <th>Bath</th>\n",
       "      <th>Area</th>\n",
       "      <th>Location</th>\n",
       "      <th>Price</th>\n",
       "    </tr>\n",
       "  </thead>\n",
       "  <tbody>\n",
       "    <tr>\n",
       "      <th>0</th>\n",
       "      <td>Apartment</td>\n",
       "      <td>1</td>\n",
       "      <td>1</td>\n",
       "      <td>500</td>\n",
       "      <td>Mohammadpur</td>\n",
       "      <td>1,700,000</td>\n",
       "    </tr>\n",
       "    <tr>\n",
       "      <th>1</th>\n",
       "      <td>Apartment</td>\n",
       "      <td>2</td>\n",
       "      <td>2</td>\n",
       "      <td>675</td>\n",
       "      <td>Mohammadpur</td>\n",
       "      <td>2,500,000</td>\n",
       "    </tr>\n",
       "    <tr>\n",
       "      <th>2</th>\n",
       "      <td>Apartment</td>\n",
       "      <td>2</td>\n",
       "      <td>2</td>\n",
       "      <td>600</td>\n",
       "      <td>Mohammadpur</td>\n",
       "      <td>2,600,000</td>\n",
       "    </tr>\n",
       "    <tr>\n",
       "      <th>3</th>\n",
       "      <td>Apartment</td>\n",
       "      <td>2</td>\n",
       "      <td>2</td>\n",
       "      <td>600</td>\n",
       "      <td>Mohammadpur</td>\n",
       "      <td>2,600,000</td>\n",
       "    </tr>\n",
       "    <tr>\n",
       "      <th>4</th>\n",
       "      <td>Apartment</td>\n",
       "      <td>3</td>\n",
       "      <td>2</td>\n",
       "      <td>800</td>\n",
       "      <td>Mohammadpur</td>\n",
       "      <td>2,700,000</td>\n",
       "    </tr>\n",
       "  </tbody>\n",
       "</table>\n",
       "</div>"
      ],
      "text/plain": [
       "  Property Type  Bed  Bath Area     Location      Price\n",
       "0     Apartment    1     1  500  Mohammadpur  1,700,000\n",
       "1     Apartment    2     2  675  Mohammadpur  2,500,000\n",
       "2     Apartment    2     2  600  Mohammadpur  2,600,000\n",
       "3     Apartment    2     2  600  Mohammadpur  2,600,000\n",
       "4     Apartment    3     2  800  Mohammadpur  2,700,000"
      ]
     },
     "execution_count": 4,
     "metadata": {},
     "output_type": "execute_result"
    }
   ],
   "source": [
    "df.head()"
   ]
  },
  {
   "cell_type": "code",
   "execution_count": 5,
   "id": "9dc2ff6e",
   "metadata": {},
   "outputs": [
    {
     "data": {
      "text/plain": [
       "(5038, 6)"
      ]
     },
     "execution_count": 5,
     "metadata": {},
     "output_type": "execute_result"
    }
   ],
   "source": [
    "df.shape"
   ]
  },
  {
   "cell_type": "code",
   "execution_count": 6,
   "id": "a2ab3e9d",
   "metadata": {},
   "outputs": [
    {
     "name": "stdout",
     "output_type": "stream",
     "text": [
      "<class 'pandas.core.frame.DataFrame'>\n",
      "RangeIndex: 5038 entries, 0 to 5037\n",
      "Data columns (total 6 columns):\n",
      " #   Column         Non-Null Count  Dtype \n",
      "---  ------         --------------  ----- \n",
      " 0   Property Type  5038 non-null   object\n",
      " 1   Bed            5038 non-null   int64 \n",
      " 2   Bath           5038 non-null   int64 \n",
      " 3   Area           5038 non-null   object\n",
      " 4   Location       5038 non-null   object\n",
      " 5   Price          5038 non-null   object\n",
      "dtypes: int64(2), object(4)\n",
      "memory usage: 236.3+ KB\n"
     ]
    }
   ],
   "source": [
    "df.info()"
   ]
  },
  {
   "cell_type": "code",
   "execution_count": 7,
   "id": "cace75fc",
   "metadata": {},
   "outputs": [],
   "source": [
    "df['Price'] = (df['Price'].str.split()).apply(lambda x: float(x[0].replace(',', '')))\n",
    "df['Area'] = (df['Area'].str.split()).apply(lambda x: int(x[0].replace(',', '')))"
   ]
  },
  {
   "cell_type": "code",
   "execution_count": 8,
   "id": "254db071",
   "metadata": {},
   "outputs": [
    {
     "name": "stdout",
     "output_type": "stream",
     "text": [
      "<class 'pandas.core.frame.DataFrame'>\n",
      "RangeIndex: 5038 entries, 0 to 5037\n",
      "Data columns (total 6 columns):\n",
      " #   Column         Non-Null Count  Dtype  \n",
      "---  ------         --------------  -----  \n",
      " 0   Property Type  5038 non-null   object \n",
      " 1   Bed            5038 non-null   int64  \n",
      " 2   Bath           5038 non-null   int64  \n",
      " 3   Area           5038 non-null   int64  \n",
      " 4   Location       5038 non-null   object \n",
      " 5   Price          5038 non-null   float64\n",
      "dtypes: float64(1), int64(3), object(2)\n",
      "memory usage: 236.3+ KB\n"
     ]
    }
   ],
   "source": [
    "df.info()"
   ]
  },
  {
   "cell_type": "code",
   "execution_count": 9,
   "id": "d14eab91",
   "metadata": {},
   "outputs": [],
   "source": [
    "df = df.drop(['Property Type'],axis='columns')"
   ]
  },
  {
   "cell_type": "code",
   "execution_count": 10,
   "id": "dbb9c993",
   "metadata": {},
   "outputs": [
    {
     "name": "stdout",
     "output_type": "stream",
     "text": [
      "Categorical variables:\n",
      "['Location']\n"
     ]
    }
   ],
   "source": [
    "# Get list of categorical variables\n",
    "s = (df.dtypes == 'object')\n",
    "object_cols = list(s[s].index)\n",
    "print(\"Categorical variables:\")\n",
    "print(object_cols)"
   ]
  },
  {
   "cell_type": "code",
   "execution_count": null,
   "id": "bfb31a8f",
   "metadata": {},
   "outputs": [],
   "source": []
  },
  {
   "cell_type": "code",
   "execution_count": 12,
   "id": "0b6dcf26",
   "metadata": {},
   "outputs": [],
   "source": [
    "dummies = pd.get_dummies(df.Location)"
   ]
  },
  {
   "cell_type": "code",
   "execution_count": 13,
   "id": "56dbe496",
   "metadata": {},
   "outputs": [],
   "source": [
    "df = pd.concat([df,dummies],axis='columns')\n"
   ]
  },
  {
   "cell_type": "code",
   "execution_count": 14,
   "id": "8084bf1d",
   "metadata": {},
   "outputs": [
    {
     "data": {
      "text/html": [
       "<div>\n",
       "<style scoped>\n",
       "    .dataframe tbody tr th:only-of-type {\n",
       "        vertical-align: middle;\n",
       "    }\n",
       "\n",
       "    .dataframe tbody tr th {\n",
       "        vertical-align: top;\n",
       "    }\n",
       "\n",
       "    .dataframe thead th {\n",
       "        text-align: right;\n",
       "    }\n",
       "</style>\n",
       "<table border=\"1\" class=\"dataframe\">\n",
       "  <thead>\n",
       "    <tr style=\"text-align: right;\">\n",
       "      <th></th>\n",
       "      <th>Bed</th>\n",
       "      <th>Bath</th>\n",
       "      <th>Area</th>\n",
       "      <th>Location</th>\n",
       "      <th>Price</th>\n",
       "      <th>Badda</th>\n",
       "      <th>Banani</th>\n",
       "      <th>Bashabo</th>\n",
       "      <th>Bashundhara</th>\n",
       "      <th>Dhanmondi</th>\n",
       "      <th>Mirpur</th>\n",
       "      <th>Mohammadpur</th>\n",
       "      <th>Savar</th>\n",
       "      <th>Uttara</th>\n",
       "    </tr>\n",
       "  </thead>\n",
       "  <tbody>\n",
       "    <tr>\n",
       "      <th>2025</th>\n",
       "      <td>3</td>\n",
       "      <td>3</td>\n",
       "      <td>1450</td>\n",
       "      <td>Mirpur</td>\n",
       "      <td>8700000.0</td>\n",
       "      <td>0</td>\n",
       "      <td>0</td>\n",
       "      <td>0</td>\n",
       "      <td>0</td>\n",
       "      <td>0</td>\n",
       "      <td>1</td>\n",
       "      <td>0</td>\n",
       "      <td>0</td>\n",
       "      <td>0</td>\n",
       "    </tr>\n",
       "    <tr>\n",
       "      <th>2026</th>\n",
       "      <td>3</td>\n",
       "      <td>3</td>\n",
       "      <td>1450</td>\n",
       "      <td>Mirpur</td>\n",
       "      <td>8700000.0</td>\n",
       "      <td>0</td>\n",
       "      <td>0</td>\n",
       "      <td>0</td>\n",
       "      <td>0</td>\n",
       "      <td>0</td>\n",
       "      <td>1</td>\n",
       "      <td>0</td>\n",
       "      <td>0</td>\n",
       "      <td>0</td>\n",
       "    </tr>\n",
       "    <tr>\n",
       "      <th>2027</th>\n",
       "      <td>3</td>\n",
       "      <td>3</td>\n",
       "      <td>1450</td>\n",
       "      <td>Mirpur</td>\n",
       "      <td>8700000.0</td>\n",
       "      <td>0</td>\n",
       "      <td>0</td>\n",
       "      <td>0</td>\n",
       "      <td>0</td>\n",
       "      <td>0</td>\n",
       "      <td>1</td>\n",
       "      <td>0</td>\n",
       "      <td>0</td>\n",
       "      <td>0</td>\n",
       "    </tr>\n",
       "    <tr>\n",
       "      <th>2028</th>\n",
       "      <td>3</td>\n",
       "      <td>2</td>\n",
       "      <td>1250</td>\n",
       "      <td>Mirpur</td>\n",
       "      <td>8750000.0</td>\n",
       "      <td>0</td>\n",
       "      <td>0</td>\n",
       "      <td>0</td>\n",
       "      <td>0</td>\n",
       "      <td>0</td>\n",
       "      <td>1</td>\n",
       "      <td>0</td>\n",
       "      <td>0</td>\n",
       "      <td>0</td>\n",
       "    </tr>\n",
       "    <tr>\n",
       "      <th>2029</th>\n",
       "      <td>3</td>\n",
       "      <td>2</td>\n",
       "      <td>1250</td>\n",
       "      <td>Mirpur</td>\n",
       "      <td>8750000.0</td>\n",
       "      <td>0</td>\n",
       "      <td>0</td>\n",
       "      <td>0</td>\n",
       "      <td>0</td>\n",
       "      <td>0</td>\n",
       "      <td>1</td>\n",
       "      <td>0</td>\n",
       "      <td>0</td>\n",
       "      <td>0</td>\n",
       "    </tr>\n",
       "  </tbody>\n",
       "</table>\n",
       "</div>"
      ],
      "text/plain": [
       "      Bed  Bath  Area Location      Price  Badda  Banani  Bashabo  \\\n",
       "2025    3     3  1450   Mirpur  8700000.0      0       0        0   \n",
       "2026    3     3  1450   Mirpur  8700000.0      0       0        0   \n",
       "2027    3     3  1450   Mirpur  8700000.0      0       0        0   \n",
       "2028    3     2  1250   Mirpur  8750000.0      0       0        0   \n",
       "2029    3     2  1250   Mirpur  8750000.0      0       0        0   \n",
       "\n",
       "      Bashundhara  Dhanmondi  Mirpur  Mohammadpur  Savar  Uttara  \n",
       "2025            0          0       1            0      0       0  \n",
       "2026            0          0       1            0      0       0  \n",
       "2027            0          0       1            0      0       0  \n",
       "2028            0          0       1            0      0       0  \n",
       "2029            0          0       1            0      0       0  "
      ]
     },
     "execution_count": 14,
     "metadata": {},
     "output_type": "execute_result"
    }
   ],
   "source": [
    "df[2025:2030]"
   ]
  },
  {
   "cell_type": "code",
   "execution_count": 15,
   "id": "f56c8ce0",
   "metadata": {},
   "outputs": [],
   "source": [
    "df = df.drop('Location',axis='columns')"
   ]
  },
  {
   "cell_type": "code",
   "execution_count": 16,
   "id": "c03291e9",
   "metadata": {},
   "outputs": [
    {
     "name": "stdout",
     "output_type": "stream",
     "text": [
      "<class 'pandas.core.frame.DataFrame'>\n",
      "RangeIndex: 5038 entries, 0 to 5037\n",
      "Data columns (total 13 columns):\n",
      " #   Column       Non-Null Count  Dtype  \n",
      "---  ------       --------------  -----  \n",
      " 0   Bed          5038 non-null   int64  \n",
      " 1   Bath         5038 non-null   int64  \n",
      " 2   Area         5038 non-null   int64  \n",
      " 3   Price        5038 non-null   float64\n",
      " 4   Badda        5038 non-null   uint8  \n",
      " 5   Banani       5038 non-null   uint8  \n",
      " 6   Bashabo      5038 non-null   uint8  \n",
      " 7   Bashundhara  5038 non-null   uint8  \n",
      " 8   Dhanmondi    5038 non-null   uint8  \n",
      " 9   Mirpur       5038 non-null   uint8  \n",
      " 10  Mohammadpur  5038 non-null   uint8  \n",
      " 11  Savar        5038 non-null   uint8  \n",
      " 12  Uttara       5038 non-null   uint8  \n",
      "dtypes: float64(1), int64(3), uint8(9)\n",
      "memory usage: 201.8 KB\n"
     ]
    }
   ],
   "source": [
    "df.info()"
   ]
  },
  {
   "cell_type": "code",
   "execution_count": 17,
   "id": "65095e4a",
   "metadata": {},
   "outputs": [],
   "source": [
    "X = df.drop(['Price'],axis='columns')"
   ]
  },
  {
   "cell_type": "code",
   "execution_count": 18,
   "id": "2abe3466",
   "metadata": {},
   "outputs": [
    {
     "data": {
      "text/html": [
       "<div>\n",
       "<style scoped>\n",
       "    .dataframe tbody tr th:only-of-type {\n",
       "        vertical-align: middle;\n",
       "    }\n",
       "\n",
       "    .dataframe tbody tr th {\n",
       "        vertical-align: top;\n",
       "    }\n",
       "\n",
       "    .dataframe thead th {\n",
       "        text-align: right;\n",
       "    }\n",
       "</style>\n",
       "<table border=\"1\" class=\"dataframe\">\n",
       "  <thead>\n",
       "    <tr style=\"text-align: right;\">\n",
       "      <th></th>\n",
       "      <th>Bed</th>\n",
       "      <th>Bath</th>\n",
       "      <th>Area</th>\n",
       "      <th>Badda</th>\n",
       "      <th>Banani</th>\n",
       "      <th>Bashabo</th>\n",
       "      <th>Bashundhara</th>\n",
       "      <th>Dhanmondi</th>\n",
       "      <th>Mirpur</th>\n",
       "      <th>Mohammadpur</th>\n",
       "      <th>Savar</th>\n",
       "      <th>Uttara</th>\n",
       "    </tr>\n",
       "  </thead>\n",
       "  <tbody>\n",
       "    <tr>\n",
       "      <th>0</th>\n",
       "      <td>1</td>\n",
       "      <td>1</td>\n",
       "      <td>500</td>\n",
       "      <td>0</td>\n",
       "      <td>0</td>\n",
       "      <td>0</td>\n",
       "      <td>0</td>\n",
       "      <td>0</td>\n",
       "      <td>0</td>\n",
       "      <td>1</td>\n",
       "      <td>0</td>\n",
       "      <td>0</td>\n",
       "    </tr>\n",
       "    <tr>\n",
       "      <th>1</th>\n",
       "      <td>2</td>\n",
       "      <td>2</td>\n",
       "      <td>675</td>\n",
       "      <td>0</td>\n",
       "      <td>0</td>\n",
       "      <td>0</td>\n",
       "      <td>0</td>\n",
       "      <td>0</td>\n",
       "      <td>0</td>\n",
       "      <td>1</td>\n",
       "      <td>0</td>\n",
       "      <td>0</td>\n",
       "    </tr>\n",
       "    <tr>\n",
       "      <th>2</th>\n",
       "      <td>2</td>\n",
       "      <td>2</td>\n",
       "      <td>600</td>\n",
       "      <td>0</td>\n",
       "      <td>0</td>\n",
       "      <td>0</td>\n",
       "      <td>0</td>\n",
       "      <td>0</td>\n",
       "      <td>0</td>\n",
       "      <td>1</td>\n",
       "      <td>0</td>\n",
       "      <td>0</td>\n",
       "    </tr>\n",
       "    <tr>\n",
       "      <th>3</th>\n",
       "      <td>2</td>\n",
       "      <td>2</td>\n",
       "      <td>600</td>\n",
       "      <td>0</td>\n",
       "      <td>0</td>\n",
       "      <td>0</td>\n",
       "      <td>0</td>\n",
       "      <td>0</td>\n",
       "      <td>0</td>\n",
       "      <td>1</td>\n",
       "      <td>0</td>\n",
       "      <td>0</td>\n",
       "    </tr>\n",
       "    <tr>\n",
       "      <th>4</th>\n",
       "      <td>3</td>\n",
       "      <td>2</td>\n",
       "      <td>800</td>\n",
       "      <td>0</td>\n",
       "      <td>0</td>\n",
       "      <td>0</td>\n",
       "      <td>0</td>\n",
       "      <td>0</td>\n",
       "      <td>0</td>\n",
       "      <td>1</td>\n",
       "      <td>0</td>\n",
       "      <td>0</td>\n",
       "    </tr>\n",
       "  </tbody>\n",
       "</table>\n",
       "</div>"
      ],
      "text/plain": [
       "   Bed  Bath  Area  Badda  Banani  Bashabo  Bashundhara  Dhanmondi  Mirpur  \\\n",
       "0    1     1   500      0       0        0            0          0       0   \n",
       "1    2     2   675      0       0        0            0          0       0   \n",
       "2    2     2   600      0       0        0            0          0       0   \n",
       "3    2     2   600      0       0        0            0          0       0   \n",
       "4    3     2   800      0       0        0            0          0       0   \n",
       "\n",
       "   Mohammadpur  Savar  Uttara  \n",
       "0            1      0       0  \n",
       "1            1      0       0  \n",
       "2            1      0       0  \n",
       "3            1      0       0  \n",
       "4            1      0       0  "
      ]
     },
     "execution_count": 18,
     "metadata": {},
     "output_type": "execute_result"
    }
   ],
   "source": [
    "X.head()"
   ]
  },
  {
   "cell_type": "code",
   "execution_count": 19,
   "id": "488adced",
   "metadata": {},
   "outputs": [],
   "source": [
    "y = df.Price"
   ]
  },
  {
   "cell_type": "code",
   "execution_count": 20,
   "id": "4dc554aa",
   "metadata": {},
   "outputs": [
    {
     "data": {
      "text/plain": [
       "0        1700000.0\n",
       "1        2500000.0\n",
       "2        2600000.0\n",
       "3        2600000.0\n",
       "4        2700000.0\n",
       "           ...    \n",
       "5033    10275000.0\n",
       "5034    11120000.0\n",
       "5035    11120000.0\n",
       "5036    18000000.0\n",
       "5037    18000000.0\n",
       "Name: Price, Length: 5038, dtype: float64"
      ]
     },
     "execution_count": 20,
     "metadata": {},
     "output_type": "execute_result"
    }
   ],
   "source": [
    "y"
   ]
  },
  {
   "cell_type": "code",
   "execution_count": 21,
   "id": "11db8b86",
   "metadata": {},
   "outputs": [],
   "source": [
    "from sklearn.linear_model import LinearRegression\n",
    "model = LinearRegression()"
   ]
  },
  {
   "cell_type": "code",
   "execution_count": 22,
   "id": "4ccad97d",
   "metadata": {},
   "outputs": [
    {
     "data": {
      "text/plain": [
       "0.6208259507781478"
      ]
     },
     "execution_count": 22,
     "metadata": {},
     "output_type": "execute_result"
    }
   ],
   "source": [
    "model.fit(X,y)\n",
    "model.score(X,y)"
   ]
  },
  {
   "cell_type": "code",
   "execution_count": 23,
   "id": "f4f24177",
   "metadata": {},
   "outputs": [
    {
     "data": {
      "text/plain": [
       "array([8438588.813172])"
      ]
     },
     "execution_count": 23,
     "metadata": {},
     "output_type": "execute_result"
    }
   ],
   "source": [
    "model.predict([[3,3,1450,0,0,0,0,0,0,1,0,0]])"
   ]
  },
  {
   "cell_type": "code",
   "execution_count": 24,
   "id": "59d1ce62",
   "metadata": {},
   "outputs": [],
   "source": [
    "x = np.zeros(len(X.columns))"
   ]
  },
  {
   "cell_type": "code",
   "execution_count": 25,
   "id": "5d50887b",
   "metadata": {},
   "outputs": [
    {
     "data": {
      "text/plain": [
       "Index(['Bed', 'Bath', 'Area', 'Badda', 'Banani', 'Bashabo', 'Bashundhara',\n",
       "       'Dhanmondi', 'Mirpur', 'Mohammadpur', 'Savar', 'Uttara'],\n",
       "      dtype='object')"
      ]
     },
     "execution_count": 25,
     "metadata": {},
     "output_type": "execute_result"
    }
   ],
   "source": [
    "X.columns"
   ]
  },
  {
   "cell_type": "code",
   "execution_count": 26,
   "id": "ac5b9b4e",
   "metadata": {},
   "outputs": [],
   "source": [
    "    x[0] = 1\n",
    "    x[1] = 2\n",
    "    x[2] = 3\n",
    "    x[3] = 4\n",
    "    x[4] = 5\n",
    "    x[5] = 6\n",
    "    x[6] = 7\n",
    "    x[7] = 8\n",
    "    x[9] = 9\n",
    "    x[10] = 10\n",
    "    x[11] = 11"
   ]
  },
  {
   "cell_type": "code",
   "execution_count": null,
   "id": "1ce95e07",
   "metadata": {},
   "outputs": [],
   "source": []
  },
  {
   "cell_type": "code",
   "execution_count": 28,
   "id": "f5d14908",
   "metadata": {},
   "outputs": [],
   "source": [
    "def predict_price(Bed,Bath,Area,location):    \n",
    "    loc_index = np.where(X.columns==location)[0][0]\n",
    "\n",
    "    x = np.zeros(len(X.columns))\n",
    "    x[0] = Bed\n",
    "    x[1] = Bath\n",
    "    x[2] = Area\n",
    "    \n",
    "    if loc_index >= 0:\n",
    "        x[loc_index] = 1\n",
    "\n",
    "    return model.predict([x])[0]"
   ]
  },
  {
   "cell_type": "code",
   "execution_count": 29,
   "id": "7bdff16c",
   "metadata": {},
   "outputs": [
    {
     "data": {
      "text/plain": [
       "array([8438588.813172])"
      ]
     },
     "execution_count": 29,
     "metadata": {},
     "output_type": "execute_result"
    }
   ],
   "source": [
    "model.predict([[3,3,1450,0,0,0,0,0,0,1,0,0]])"
   ]
  },
  {
   "cell_type": "code",
   "execution_count": 30,
   "id": "e91679df",
   "metadata": {},
   "outputs": [],
   "source": [
    "import pickle\n",
    "with open('Price_Prediction.pickle','wb') as f:\n",
    "    pickle.dump(model,f)"
   ]
  },
  {
   "cell_type": "code",
   "execution_count": 43,
   "id": "a2e28b2f",
   "metadata": {},
   "outputs": [
    {
     "data": {
      "text/plain": [
       "array([7687971.96859804])"
      ]
     },
     "execution_count": 43,
     "metadata": {},
     "output_type": "execute_result"
    }
   ],
   "source": [
    "model.predict([[2,2,1200,0,0,0,0,0,0,0,0,1]])\n",
    "\n"
   ]
  },
  {
   "cell_type": "code",
   "execution_count": null,
   "id": "c03e4491",
   "metadata": {},
   "outputs": [],
   "source": []
  },
  {
   "cell_type": "code",
   "execution_count": null,
   "id": "78082481",
   "metadata": {},
   "outputs": [],
   "source": []
  },
  {
   "cell_type": "code",
   "execution_count": 44,
   "id": "ddd7d3b7",
   "metadata": {},
   "outputs": [
    {
     "data": {
      "text/plain": [
       "array([7599986.65689676])"
      ]
     },
     "execution_count": 44,
     "metadata": {},
     "output_type": "execute_result"
    }
   ],
   "source": [
    "model.predict([[2,2,1400,0,0,1,0,0,0,0,0,0]])"
   ]
  },
  {
   "cell_type": "code",
   "execution_count": null,
   "id": "8a0e640c",
   "metadata": {},
   "outputs": [],
   "source": []
  }
 ],
 "metadata": {
  "kernelspec": {
   "display_name": "Python 3",
   "language": "python",
   "name": "python3"
  },
  "language_info": {
   "codemirror_mode": {
    "name": "ipython",
    "version": 3
   },
   "file_extension": ".py",
   "mimetype": "text/x-python",
   "name": "python",
   "nbconvert_exporter": "python",
   "pygments_lexer": "ipython3",
   "version": "3.8.8"
  }
 },
 "nbformat": 4,
 "nbformat_minor": 5
}
